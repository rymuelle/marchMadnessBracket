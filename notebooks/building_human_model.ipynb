{
 "cells": [
  {
   "cell_type": "code",
   "execution_count": 153,
   "metadata": {},
   "outputs": [],
   "source": [
    "import torch\n",
    "import torch.nn as nn\n",
    "import matplotlib.pyplot as plt\n",
    "from math import e\n",
    "from marchMadnessBracket.torch_bracket import *"
   ]
  },
  {
   "cell_type": "code",
   "execution_count": 368,
   "metadata": {},
   "outputs": [],
   "source": [
    "def do_full_bracket_multi_level(rankings,prob):\n",
    "    probs = torch.Tensor()\n",
    "    power = math.log(rankings.shape[0])/math.log(2)\n",
    "    assert power.is_integer(), \"must be multiple of two\"\n",
    "    power = int(power)\n",
    "    for x in range(power):\n",
    "        l_power = 2**x\n",
    "        prob,n_rounds = one_round(rankings,prob,2*l_power,l_power,logisitic)\n",
    "        probs = torch.cat( (probs,prob) )\n",
    "        #print(prob)\n",
    "    return probs"
   ]
  },
  {
   "cell_type": "code",
   "execution_count": 369,
   "metadata": {},
   "outputs": [],
   "source": [
    "xpower = torch.arange(1, 65,dtype=float)\n",
    "xp = torch.full((1, 64), 1.)"
   ]
  },
  {
   "cell_type": "code",
   "execution_count": 370,
   "metadata": {
    "scrolled": true
   },
   "outputs": [
    {
     "data": {
      "text/plain": [
       "(tensor([ 1.,  2.,  3.,  4.,  5.,  6.,  7.,  8.,  9., 10., 11., 12., 13., 14.,\n",
       "         15., 16., 17., 18., 19., 20., 21., 22., 23., 24., 25., 26., 27., 28.,\n",
       "         29., 30., 31., 32., 33., 34., 35., 36., 37., 38., 39., 40., 41., 42.,\n",
       "         43., 44., 45., 46., 47., 48., 49., 50., 51., 52., 53., 54., 55., 56.,\n",
       "         57., 58., 59., 60., 61., 62., 63., 64.], dtype=torch.float64),\n",
       " tensor([[1., 1., 1., 1., 1., 1., 1., 1., 1., 1., 1., 1., 1., 1., 1., 1., 1., 1.,\n",
       "          1., 1., 1., 1., 1., 1., 1., 1., 1., 1., 1., 1., 1., 1., 1., 1., 1., 1.,\n",
       "          1., 1., 1., 1., 1., 1., 1., 1., 1., 1., 1., 1., 1., 1., 1., 1., 1., 1.,\n",
       "          1., 1., 1., 1., 1., 1., 1., 1., 1., 1.]]))"
      ]
     },
     "execution_count": 370,
     "metadata": {},
     "output_type": "execute_result"
    }
   ],
   "source": [
    "xpower,xp"
   ]
  },
  {
   "cell_type": "code",
   "execution_count": 371,
   "metadata": {},
   "outputs": [
    {
     "data": {
      "text/plain": [
       "[<matplotlib.lines.Line2D at 0x7fb953ada5f8>]"
      ]
     },
     "execution_count": 371,
     "metadata": {},
     "output_type": "execute_result"
    },
    {
     "data": {
      "image/png": "[encoded data removed]",
      "text/plain": [
       "<Figure size 432x288 with 1 Axes>"
      ]
     },
     "metadata": {
      "needs_background": "light"
     },
     "output_type": "display_data"
    }
   ],
   "source": [
    "prob = do_full_bracket_multi_level(xpower,xp)\n",
    "plt.plot(prob)"
   ]
  },
  {
   "cell_type": "code",
   "execution_count": 372,
   "metadata": {},
   "outputs": [],
   "source": [
    "from marchMadnessBracket.utils import *\n",
    "from marchMadnessBracket.Team import Team\n",
    "from marchMadnessBracket.Bracket import Bracket\n",
    "teams = [['Gonzaga', 25.9],\n",
    " ['NORF/APPST', 4.2],\n",
    " ['Oklahoma', 14.1],\n",
    " ['Missouri', 11.4],\n",
    " ['Creighton', 16.9],\n",
    " ['UCSB', 6.4],\n",
    " ['Virginia', 16.2],\n",
    " ['Ohio', 5.2],\n",
    " ['USC', 15.9],\n",
    " ['WICH/DRKE', 8.4],\n",
    " ['Kansas', 17.1],\n",
    " ['Eastern Wash.', 4.6],\n",
    " ['Oregon', 13.9],\n",
    " ['VCU', 10.7],\n",
    " ['Iowa', 20.9],\n",
    " ['Grand Canyon', 4.5],\n",
    " ['Michigan', 20.4],\n",
    " ['MSM/TXSO', 4.0],\n",
    " ['LSU', 14.6],\n",
    " ['St. Bonaventure', 12.7],\n",
    " ['Colorado', 16.0],\n",
    " ['Georgetown', 9.7],\n",
    " ['Florida St.', 16.7],\n",
    " ['N.C. Greensboro', 5.1],\n",
    " ['BYU', 13.9],\n",
    " ['MSU/UCLA', 12.6],\n",
    " ['Texas', 16.5],\n",
    " ['Abilene Christian', 6.0],\n",
    " ['Connecticut', 15.2],\n",
    " ['Maryland', 12.6],\n",
    " ['Alabama', 18.0],\n",
    " ['Iona', 0.1],\n",
    " ['Baylor', 23.1],\n",
    " ['Hartford', 2.4],\n",
    " ['North Carolina', 14.9],\n",
    " ['Wisconsin', 15.9],\n",
    " ['Villanova', 17.9],\n",
    " ['Winthrop', 5.8],\n",
    " ['Purdue', 15.2],\n",
    " ['North Texas', 7.9],\n",
    " ['Texas Tech', 16.9],\n",
    " ['Utah St.', 12.1],\n",
    " ['Arkansas', 16.2],\n",
    " ['Colgate', 8.8],\n",
    " ['Florida', 13.2],\n",
    " ['Virginia Tech', 12.3],\n",
    " ['Ohio St.', 17.5],\n",
    " ['Oral Roberts', 0.9],\n",
    " ['Illinois', 21.7],\n",
    " ['Drexel', 0.8],\n",
    " ['Loyola (IL)', 13.9],\n",
    " ['Georgia Tech', 13.1],\n",
    " ['Tennessee', 16.5],\n",
    " ['Oregon St.', 7.8],\n",
    " ['Oklahoma St.', 14.3],\n",
    " ['Liberty', 4.6],\n",
    " ['SDSU', 14.5],\n",
    " ['Syracuse', 12.3],\n",
    " ['West Virginia', 16.2],\n",
    " ['Morehead St.', 0.1],\n",
    " ['Clemson', 12.5],\n",
    " ['Rutgers', 13.0],\n",
    " ['Houston', 19.9],\n",
    " ['Cleveland St.', 2.0]]\n",
    "\n",
    "teams = list(map(lambda x: Team(*x), teams))"
   ]
  },
  {
   "cell_type": "code",
   "execution_count": 373,
   "metadata": {},
   "outputs": [],
   "source": [
    "ratings = []\n",
    "names = []\n",
    "for team in teams:\n",
    "    ratings.append(team.rating)\n",
    "    names.append(team.name)"
   ]
  },
  {
   "cell_type": "code",
   "execution_count": 374,
   "metadata": {},
   "outputs": [],
   "source": [
    "ratings_tensor = torch.Tensor(ratings)"
   ]
  },
  {
   "cell_type": "code",
   "execution_count": 375,
   "metadata": {},
   "outputs": [
    {
     "data": {
      "text/plain": [
       "tensor(63.)"
      ]
     },
     "execution_count": 375,
     "metadata": {},
     "output_type": "execute_result"
    },
    {
     "data": {
      "image/png": "[encoded data removed]",
      "text/plain": [
       "<Figure size 432x288 with 1 Axes>"
      ]
     },
     "metadata": {
      "needs_background": "light"
     },
     "output_type": "display_data"
    }
   ],
   "source": [
    "prob = do_full_bracket_multi_level(ratings_tensor,xp)\n",
    "plt.plot(prob)\n",
    "prob.sum()"
   ]
  },
  {
   "cell_type": "code",
   "execution_count": 376,
   "metadata": {},
   "outputs": [
    {
     "data": {
      "text/plain": [
       "[('Gonzaga', tensor(0.9795)),\n",
       " ('Illinois', tensor(0.9765)),\n",
       " ('Baylor', tensor(0.9756)),\n",
       " ('Alabama', tensor(0.9605)),\n",
       " ('Houston', tensor(0.9605)),\n",
       " ('Ohio St.', tensor(0.9507)),\n",
       " ('Iowa', tensor(0.9490)),\n",
       " ('Michigan', tensor(0.9490)),\n",
       " ('West Virginia', tensor(0.9463)),\n",
       " ('Kansas', tensor(0.9027)),\n",
       " ('Villanova', tensor(0.8963)),\n",
       " ('Florida St.', tensor(0.8877)),\n",
       " ('Virginia', tensor(0.8766)),\n",
       " ('Creighton', tensor(0.8666)),\n",
       " ('Texas', tensor(0.8666)),\n",
       " ('Oklahoma St.', tensor(0.8493)),\n",
       " ('Tennessee', tensor(0.8250)),\n",
       " ('USC', tensor(0.7919)),\n",
       " ('Arkansas', tensor(0.7890)),\n",
       " ('Purdue', tensor(0.7860)),\n",
       " ('Colorado', tensor(0.7545)),\n",
       " ('Texas Tech', tensor(0.7017)),\n",
       " ('Oregon', tensor(0.6388)),\n",
       " ('Oklahoma', tensor(0.6180)),\n",
       " ('Connecticut', tensor(0.6138)),\n",
       " ('SDSU', tensor(0.5968)),\n",
       " ('LSU', tensor(0.5839)),\n",
       " ('BYU', tensor(0.5577)),\n",
       " ('Wisconsin', tensor(0.5444)),\n",
       " ('Florida', tensor(0.5400)),\n",
       " ('Loyola (IL)', tensor(0.5356)),\n",
       " ('Rutgers', tensor(0.5223)),\n",
       " ('Clemson', tensor(0.4777)),\n",
       " ('Georgia Tech', tensor(0.4644)),\n",
       " ('Virginia Tech', tensor(0.4600)),\n",
       " ('North Carolina', tensor(0.4556)),\n",
       " ('MSU/UCLA', tensor(0.4423)),\n",
       " ('St. Bonaventure', tensor(0.4161)),\n",
       " ('Syracuse', tensor(0.4032)),\n",
       " ('Maryland', tensor(0.3862)),\n",
       " ('Missouri', tensor(0.3820)),\n",
       " ('VCU', tensor(0.3612)),\n",
       " ('Utah St.', tensor(0.2983)),\n",
       " ('Georgetown', tensor(0.2455)),\n",
       " ('North Texas', tensor(0.2140)),\n",
       " ('Colgate', tensor(0.2110)),\n",
       " ('WICH/DRKE', tensor(0.2081)),\n",
       " ('Oregon St.', tensor(0.1750)),\n",
       " ('Liberty', tensor(0.1507)),\n",
       " ('UCSB', tensor(0.1334)),\n",
       " ('Abilene Christian', tensor(0.1334)),\n",
       " ('Ohio', tensor(0.1234)),\n",
       " ('N.C. Greensboro', tensor(0.1123)),\n",
       " ('Winthrop', tensor(0.1037)),\n",
       " ('Eastern Wash.', tensor(0.0973)),\n",
       " ('Morehead St.', tensor(0.0537)),\n",
       " ('Grand Canyon', tensor(0.0510)),\n",
       " ('MSM/TXSO', tensor(0.0510)),\n",
       " ('Oral Roberts', tensor(0.0493)),\n",
       " ('Iona', tensor(0.0395)),\n",
       " ('Cleveland St.', tensor(0.0395)),\n",
       " ('Hartford', tensor(0.0244)),\n",
       " ('Drexel', tensor(0.0235)),\n",
       " ('NORF/APPST', tensor(0.0205))]"
      ]
     },
     "execution_count": 376,
     "metadata": {},
     "output_type": "execute_result"
    }
   ],
   "source": [
    "names_prob = list(zip(names,prob))\n",
    "sorted(names_prob,key=lambda x: -x[1])"
   ]
  },
  {
   "cell_type": "code",
   "execution_count": 377,
   "metadata": {},
   "outputs": [],
   "source": [
    "human_picks = {'Gonzaga': [97.7184, 93.121, 85.7853, 72.3422, 59.9904, 43.5631],\n",
    " 'Baylor': [96.1392, 82.5877, 70.2927, 50.7066, 29.6117, 8.6977],\n",
    " 'Iowa': [95.9706, 77.2913, 48.3535, 10.8907, 5.5001, 2.4422],\n",
    " 'Michigan': [95.6712, 84.333, 66.9569, 46.4992, 14.843, 9.0988],\n",
    " 'Illinois': [95.5053, 87.9137, 72.8701, 57.482, 33.7767, 15.6837],\n",
    " 'Ohio St.': [95.2931, 80.7313, 59.1219, 24.7422, 10.2383, 3.0282],\n",
    " 'Kansas': [93.9874, 70.0629, 33.5628, 7.9222, 3.9552, 2.0714],\n",
    " 'Houston': [93.5286, 76.5244, 43.6078, 14.1668, 5.8786, 1.6965],\n",
    " 'Texas': [92.6278, 69.8685, 36.6484, 14.919, 2.9774, 1.1377],\n",
    " 'Alabama': [92.4722, 73.4387, 42.4985, 19.3409, 4.5083, 1.8481],\n",
    " 'West Virginia': [90.7206, 62.7244, 34.7381, 9.3002, 3.4422, 0.9458],\n",
    " 'Florida St.': [90.2665, 59.6703, 18.6316, 7.7381, 1.4897, 0.5972],\n",
    " 'Purdue': [88.6197, 43.8941, 7.8438, 2.8696, 1.0671, 0.3829],\n",
    " 'Arkansas': [85.1917, 51.1321, 17.9848, 5.3602, 1.8732, 0.5729],\n",
    " 'Virginia': [84.5838, 53.8875, 6.9071, 3.2329, 1.3913, 0.6729],\n",
    " 'Oklahoma St.': [84.2984, 55.0067, 13.0297, 7.7763, 3.3117, 0.9377],\n",
    " 'USC': [79.3014, 23.2515, 8.0756, 0.857, 0.3313, 0.1768],\n",
    " 'Tennessee': [75.7456, 33.7112, 6.6588, 2.5973, 0.8784, 0.288],\n",
    " 'Creighton': [74.9402, 33.7112, 2.271, 0.7962, 0.3353, 0.1445],\n",
    " 'Villanova': [73.7188, 44.7711, 11.067, 5.7852, 3.0688, 0.9144],\n",
    " 'Texas Tech': [72.9478, 36.7414, 12.5516, 2.4436, 0.773, 0.2647],\n",
    " 'LSU': [66.9249, 9.3682, 4.1221, 1.3564, 0.3503, 0.1576],\n",
    " 'Oregon': [66.9175, 16.454, 5.9151, 0.9804, 0.4307, 0.2193],\n",
    " 'BYU': [66.6404, 18.4329, 7.198, 1.2066, 0.249, 0.1122],\n",
    " 'Oklahoma': [60.8307, 2.9651, 1.6843, 0.4838, 0.1707, 0.0738],\n",
    " 'Clemson': [58.0413, 13.1452, 3.9398, 1.1518, 0.3965, 0.1273],\n",
    " 'SDSU': [55.768, 22.1122, 9.4254, 1.6738, 0.6234, 0.2577],\n",
    " 'North Carolina': [52.9535, 9.0819, 5.2043, 2.7912, 1.3622, 0.6709],\n",
    " 'Florida': [51.2196, 9.891, 3.6586, 0.9226, 0.4367, 0.1748],\n",
    " 'Loyola (IL)': [50.4532, 4.9852, 2.1333, 0.8942, 0.3754, 0.1586],\n",
    " 'Connecticut': [49.8638, 13.0389, 4.8329, 1.6689, 0.525, 0.3223],\n",
    " 'Colorado': [48.52, 19.7513, 3.2814, 1.1841, 0.2961, 0.1344],\n",
    " 'Georgetown': [47.6266, 16.0586, 2.9614, 1.2771, 0.4859, 0.3193],\n",
    " 'Maryland': [46.0391, 8.7784, 2.6007, 0.4975, 0.1526, 0.0717],\n",
    " 'Georgia Tech': [45.0438, 3.7157, 1.5379, 0.6454, 0.254, 0.1213],\n",
    " 'Virginia Tech': [44.4785, 5.9503, 2.3641, 0.4094, 0.1576, 0.0717],\n",
    " 'Wisconsin': [43.1931, 5.282, 2.3845, 1.044, 0.3724, 0.19],\n",
    " 'Syracuse': [39.6604, 10.5793, 3.7624, 1.3271, 0.7298, 0.5244],\n",
    " 'Rutgers': [37.2537, 6.2193, 1.344, 0.2938, 0.1154, 0.0606],\n",
    " 'Missouri': [36.4669, 1.7444, 0.7021, 0.2938, 0.1265, 0.0738],\n",
    " 'VCU': [30.3153, 3.4553, 0.8562, 0.1606, 0.0663, 0.0293],\n",
    " 'St. Bonaventure': [29.003, 2.5955, 0.799, 0.3056, 0.0914, 0.0404],\n",
    " 'MSU/UCLA': [27.409, 6.4797, 1.9685, 0.6679, 0.2439, 0.1768],\n",
    " 'Utah St.': [22.9237, 5.3634, 0.864, 0.2047, 0.0803, 0.0374],\n",
    " 'UCSB': [22.5789, 5.4811, 0.4073, 0.1704, 0.0853, 0.0404],\n",
    " 'Winthrop': [22.5307, 6.8292, 0.5498, 0.237, 0.0964, 0.0333],\n",
    " 'Oregon St.': [19.7746, 3.9847, 0.6768, 0.2674, 0.1446, 0.0647],\n",
    " 'WICH/DRKE': [16.1177, 2.6884, 0.5227, 0.1401, 0.0632, 0.0323],\n",
    " 'Ohio': [13.1846, 4.8292, 0.6594, 0.191, 0.0823, 0.0354],\n",
    " 'Liberty': [11.4868, 4.1752, 0.5789, 0.1988, 0.0783, 0.0313],\n",
    " 'Colgate': [11.0921, 3.843, 0.9551, 0.3379, 0.1968, 0.0354],\n",
    " 'North Texas': [7.7086, 1.6659, 0.3268, 0.1332, 0.0572, 0.0364],\n",
    " 'N.C. Greensboro': [6.0627, 1.5481, 0.3093, 0.1234, 0.0542, 0.0202],\n",
    " 'Morehead St.': [5.1619, 1.4074, 0.3956, 0.141, 0.0723, 0.0263],\n",
    " 'Iona': [4.667, 1.9474, 0.9125, 0.5543, 0.4136, 0.0404],\n",
    " 'Eastern Wash.': [4.0507, 1.259, 0.3442, 0.1156, 0.0522, 0.0212],\n",
    " 'Abilene Christian': [4.0443, 1.4897, 0.4897, 0.2272, 0.0763, 0.0404],\n",
    " 'Cleveland St.': [2.9961, 1.0646, 0.3888, 0.143, 0.0632, 0.0303],\n",
    " 'Grand Canyon': [2.6959, 1.0321, 0.4596, 0.1704, 0.0863, 0.0495],\n",
    " 'Oral Roberts': [1.9211, 0.7573, 0.3384, 0.1303, 0.0532, 0.0253],\n",
    " 'Drexel': [1.6134, 0.6788, 0.3801, 0.2125, 0.0984, 0.0546],\n",
    " 'Hartford': [1.5476, 0.539, 0.289, 0.1694, 0.0803, 0.0424],\n",
    " 'MSM/TXSO': [0.9814, 0.4222, 0.2405, 0.141, 0.0552, 0.0202],\n",
    " 'NORF/APPST': [0.8711, 0.3877, 0.2075, 0.1156, 0.0602, 0.0293]}"
   ]
  },
  {
   "cell_type": "code",
   "execution_count": 382,
   "metadata": {},
   "outputs": [],
   "source": [
    "targets = [[human_picks[name][x]/100. for name in names] for x in range(6)]\n",
    "target = []\n",
    "for x in targets:\n",
    "    target = target+x"
   ]
  },
  {
   "cell_type": "code",
   "execution_count": 383,
   "metadata": {},
   "outputs": [],
   "source": [
    "loss_func = nn.BCELoss()\n",
    "loss_func = nn.KLDivLoss()\n",
    "loss_func = nn.MSELoss()"
   ]
  },
  {
   "cell_type": "code",
   "execution_count": 384,
   "metadata": {
    "scrolled": false
   },
   "outputs": [
    {
     "data": {
      "text/plain": [
       "tensor([9.7718e-01, 8.7110e-03, 6.0831e-01, 3.6467e-01, 7.4940e-01, 2.2579e-01,\n",
       "        8.4584e-01, 1.3185e-01, 7.9301e-01, 1.6118e-01, 9.3987e-01, 4.0507e-02,\n",
       "        6.6918e-01, 3.0315e-01, 9.5971e-01, 2.6959e-02, 9.5671e-01, 9.8140e-03,\n",
       "        6.6925e-01, 2.9003e-01, 4.8520e-01, 4.7627e-01, 9.0267e-01, 6.0627e-02,\n",
       "        6.6640e-01, 2.7409e-01, 9.2628e-01, 4.0443e-02, 4.9864e-01, 4.6039e-01,\n",
       "        9.2472e-01, 4.6670e-02, 9.6139e-01, 1.5476e-02, 5.2953e-01, 4.3193e-01,\n",
       "        7.3719e-01, 2.2531e-01, 8.8620e-01, 7.7086e-02, 7.2948e-01, 2.2924e-01,\n",
       "        8.5192e-01, 1.1092e-01, 5.1220e-01, 4.4478e-01, 9.5293e-01, 1.9211e-02,\n",
       "        9.5505e-01, 1.6134e-02, 5.0453e-01, 4.5044e-01, 7.5746e-01, 1.9775e-01,\n",
       "        8.4298e-01, 1.1487e-01, 5.5768e-01, 3.9660e-01, 9.0721e-01, 5.1619e-02,\n",
       "        5.8041e-01, 3.7254e-01, 9.3529e-01, 2.9961e-02, 9.3121e-01, 3.8770e-03,\n",
       "        2.9651e-02, 1.7444e-02, 3.3711e-01, 5.4811e-02, 5.3887e-01, 4.8292e-02,\n",
       "        2.3252e-01, 2.6884e-02, 7.0063e-01, 1.2590e-02, 1.6454e-01, 3.4553e-02,\n",
       "        7.7291e-01, 1.0321e-02, 8.4333e-01, 4.2220e-03, 9.3682e-02, 2.5955e-02,\n",
       "        1.9751e-01, 1.6059e-01, 5.9670e-01, 1.5481e-02, 1.8433e-01, 6.4797e-02,\n",
       "        6.9868e-01, 1.4897e-02, 1.3039e-01, 8.7784e-02, 7.3439e-01, 1.9474e-02,\n",
       "        8.2588e-01, 5.3900e-03, 9.0819e-02, 5.2820e-02, 4.4771e-01, 6.8292e-02,\n",
       "        4.3894e-01, 1.6659e-02, 3.6741e-01, 5.3634e-02, 5.1132e-01, 3.8430e-02,\n",
       "        9.8910e-02, 5.9503e-02, 8.0731e-01, 7.5730e-03, 8.7914e-01, 6.7880e-03,\n",
       "        4.9852e-02, 3.7157e-02, 3.3711e-01, 3.9847e-02, 5.5007e-01, 4.1752e-02,\n",
       "        2.2112e-01, 1.0579e-01, 6.2724e-01, 1.4074e-02, 1.3145e-01, 6.2193e-02,\n",
       "        7.6524e-01, 1.0646e-02, 8.5785e-01, 2.0750e-03, 1.6843e-02, 7.0210e-03,\n",
       "        2.2710e-02, 4.0730e-03, 6.9071e-02, 6.5940e-03, 8.0756e-02, 5.2270e-03,\n",
       "        3.3563e-01, 3.4420e-03, 5.9151e-02, 8.5620e-03, 4.8353e-01, 4.5960e-03,\n",
       "        6.6957e-01, 2.4050e-03, 4.1221e-02, 7.9900e-03, 3.2814e-02, 2.9614e-02,\n",
       "        1.8632e-01, 3.0930e-03, 7.1980e-02, 1.9685e-02, 3.6648e-01, 4.8970e-03,\n",
       "        4.8329e-02, 2.6007e-02, 4.2498e-01, 9.1250e-03, 7.0293e-01, 2.8900e-03,\n",
       "        5.2043e-02, 2.3845e-02, 1.1067e-01, 5.4980e-03, 7.8438e-02, 3.2680e-03,\n",
       "        1.2552e-01, 8.6400e-03, 1.7985e-01, 9.5510e-03, 3.6586e-02, 2.3641e-02,\n",
       "        5.9122e-01, 3.3840e-03, 7.2870e-01, 3.8010e-03, 2.1333e-02, 1.5379e-02,\n",
       "        6.6588e-02, 6.7680e-03, 1.3030e-01, 5.7890e-03, 9.4254e-02, 3.7624e-02,\n",
       "        3.4738e-01, 3.9560e-03, 3.9398e-02, 1.3440e-02, 4.3608e-01, 3.8880e-03,\n",
       "        7.2342e-01, 1.1560e-03, 4.8380e-03, 2.9380e-03, 7.9620e-03, 1.7040e-03,\n",
       "        3.2329e-02, 1.9100e-03, 8.5700e-03, 1.4010e-03, 7.9222e-02, 1.1560e-03,\n",
       "        9.8040e-03, 1.6060e-03, 1.0891e-01, 1.7040e-03, 4.6499e-01, 1.4100e-03,\n",
       "        1.3564e-02, 3.0560e-03, 1.1841e-02, 1.2771e-02, 7.7381e-02, 1.2340e-03,\n",
       "        1.2066e-02, 6.6790e-03, 1.4919e-01, 2.2720e-03, 1.6689e-02, 4.9750e-03,\n",
       "        1.9341e-01, 5.5430e-03, 5.0707e-01, 1.6940e-03, 2.7912e-02, 1.0440e-02,\n",
       "        5.7852e-02, 2.3700e-03, 2.8696e-02, 1.3320e-03, 2.4436e-02, 2.0470e-03,\n",
       "        5.3602e-02, 3.3790e-03, 9.2260e-03, 4.0940e-03, 2.4742e-01, 1.3030e-03,\n",
       "        5.7482e-01, 2.1250e-03, 8.9420e-03, 6.4540e-03, 2.5973e-02, 2.6740e-03,\n",
       "        7.7763e-02, 1.9880e-03, 1.6738e-02, 1.3271e-02, 9.3002e-02, 1.4100e-03,\n",
       "        1.1518e-02, 2.9380e-03, 1.4167e-01, 1.4300e-03, 5.9990e-01, 6.0200e-04,\n",
       "        1.7070e-03, 1.2650e-03, 3.3530e-03, 8.5300e-04, 1.3913e-02, 8.2300e-04,\n",
       "        3.3130e-03, 6.3200e-04, 3.9552e-02, 5.2200e-04, 4.3070e-03, 6.6300e-04,\n",
       "        5.5001e-02, 8.6300e-04, 1.4843e-01, 5.5200e-04, 3.5030e-03, 9.1400e-04,\n",
       "        2.9610e-03, 4.8590e-03, 1.4897e-02, 5.4200e-04, 2.4900e-03, 2.4390e-03,\n",
       "        2.9774e-02, 7.6300e-04, 5.2500e-03, 1.5260e-03, 4.5083e-02, 4.1360e-03,\n",
       "        2.9612e-01, 8.0300e-04, 1.3622e-02, 3.7240e-03, 3.0688e-02, 9.6400e-04,\n",
       "        1.0671e-02, 5.7200e-04, 7.7300e-03, 8.0300e-04, 1.8732e-02, 1.9680e-03,\n",
       "        4.3670e-03, 1.5760e-03, 1.0238e-01, 5.3200e-04, 3.3777e-01, 9.8400e-04,\n",
       "        3.7540e-03, 2.5400e-03, 8.7840e-03, 1.4460e-03, 3.3117e-02, 7.8300e-04,\n",
       "        6.2340e-03, 7.2980e-03, 3.4422e-02, 7.2300e-04, 3.9650e-03, 1.1540e-03,\n",
       "        5.8786e-02, 6.3200e-04, 4.3563e-01, 2.9300e-04, 7.3800e-04, 7.3800e-04,\n",
       "        1.4450e-03, 4.0400e-04, 6.7290e-03, 3.5400e-04, 1.7680e-03, 3.2300e-04,\n",
       "        2.0714e-02, 2.1200e-04, 2.1930e-03, 2.9300e-04, 2.4422e-02, 4.9500e-04,\n",
       "        9.0988e-02, 2.0200e-04, 1.5760e-03, 4.0400e-04, 1.3440e-03, 3.1930e-03,\n",
       "        5.9720e-03, 2.0200e-04, 1.1220e-03, 1.7680e-03, 1.1377e-02, 4.0400e-04,\n",
       "        3.2230e-03, 7.1700e-04, 1.8481e-02, 4.0400e-04, 8.6977e-02, 4.2400e-04,\n",
       "        6.7090e-03, 1.9000e-03, 9.1440e-03, 3.3300e-04, 3.8290e-03, 3.6400e-04,\n",
       "        2.6470e-03, 3.7400e-04, 5.7290e-03, 3.5400e-04, 1.7480e-03, 7.1700e-04,\n",
       "        3.0282e-02, 2.5300e-04, 1.5684e-01, 5.4600e-04, 1.5860e-03, 1.2130e-03,\n",
       "        2.8800e-03, 6.4700e-04, 9.3770e-03, 3.1300e-04, 2.5770e-03, 5.2440e-03,\n",
       "        9.4580e-03, 2.6300e-04, 1.2730e-03, 6.0600e-04, 1.6965e-02, 3.0300e-04])"
      ]
     },
     "execution_count": 384,
     "metadata": {},
     "output_type": "execute_result"
    }
   ],
   "source": [
    "target = torch.tensor(target)\n",
    "target = target\n",
    "target"
   ]
  },
  {
   "cell_type": "code",
   "execution_count": 385,
   "metadata": {},
   "outputs": [
    {
     "data": {
      "text/plain": [
       "tensor([25.9000,  4.2000, 14.1000, 11.4000, 16.9000,  6.4000, 16.2000,  5.2000,\n",
       "        15.9000,  8.4000, 17.1000,  4.6000, 13.9000, 10.7000, 20.9000,  4.5000,\n",
       "        20.4000,  4.0000, 14.6000, 12.7000, 16.0000,  9.7000, 16.7000,  5.1000,\n",
       "        13.9000, 12.6000, 16.5000,  6.0000, 15.2000, 12.6000, 18.0000,  0.1000,\n",
       "        23.1000,  2.4000, 14.9000, 15.9000, 17.9000,  5.8000, 15.2000,  7.9000,\n",
       "        16.9000, 12.1000, 16.2000,  8.8000, 13.2000, 12.3000, 17.5000,  0.9000,\n",
       "        21.7000,  0.8000, 13.9000, 13.1000, 16.5000,  7.8000, 14.3000,  4.6000,\n",
       "        14.5000, 12.3000, 16.2000,  0.1000, 12.5000, 13.0000, 19.9000,  2.0000])"
      ]
     },
     "execution_count": 385,
     "metadata": {},
     "output_type": "execute_result"
    }
   ],
   "source": [
    "human_ratings_tensor = torch.tensor(ratings, requires_grad=True)\n",
    "ratings_tensor"
   ]
  },
  {
   "cell_type": "code",
   "execution_count": 386,
   "metadata": {},
   "outputs": [],
   "source": [
    "optimizer = torch.optim.Adam([human_ratings_tensor], lr=1e-3)\n",
    "losses =[]"
   ]
  },
  {
   "cell_type": "code",
   "execution_count": 387,
   "metadata": {},
   "outputs": [
    {
     "name": "stdout",
     "output_type": "stream",
     "text": [
      "0 0.0032796431\n",
      "100 0.0029521866\n",
      "200 0.002663361\n",
      "300 0.0024082547\n",
      "400 0.0021820124\n",
      "500 0.00198057\n",
      "600 0.0018006411\n",
      "700 0.0016395139\n",
      "800 0.0014949046\n",
      "900 0.0013648793\n",
      "1000 0.0012477714\n",
      "1100 0.0011421385\n",
      "1200 0.0010467157\n",
      "1300 0.0009603942\n",
      "1400 0.0008821956\n",
      "1500 0.00081126316\n",
      "1600 0.00074683916\n",
      "1700 0.0006882606\n",
      "1800 0.0006349439\n",
      "1900 0.000586379\n",
      "2000 0.0005421187\n",
      "2100 0.00050177\n",
      "2200 0.00046498803\n",
      "2300 0.00043146845\n",
      "2400 0.00040094022\n",
      "2500 0.00037316172\n",
      "2600 0.00034791316\n",
      "2700 0.00032499369\n",
      "2800 0.00030421952\n",
      "2900 0.0002854196\n",
      "3000 0.00026843444\n",
      "3100 0.00025311543\n",
      "3200 0.00023932185\n",
      "3300 0.00022692229\n",
      "3400 0.00021579344\n",
      "3500 0.00020581951\n",
      "3600 0.00019689208\n",
      "3700 0.00018891013\n",
      "3800 0.00018177973\n",
      "3900 0.00017541352\n",
      "4000 0.00016973146\n",
      "4100 0.00016465924\n",
      "4200 0.00016012952\n",
      "4300 0.0001560799\n",
      "4400 0.00015245484\n",
      "4500 0.00014920377\n",
      "4600 0.0001462817\n",
      "4700 0.00014364824\n",
      "4800 0.00014126794\n",
      "4900 0.00013910937\n",
      "5000 0.00013714534\n",
      "5100 0.0001353521\n",
      "5200 0.00013370915\n",
      "5300 0.0001321987\n",
      "5400 0.00013080565\n",
      "5500 0.00012951715\n",
      "5600 0.00012832183\n",
      "5700 0.00012721047\n",
      "5800 0.00012617483\n",
      "5900 0.00012520757\n",
      "6000 0.00012430282\n",
      "6100 0.00012345532\n",
      "6200 0.0001226605\n",
      "6300 0.00012191414\n",
      "6400 0.00012121298\n",
      "6500 0.000120553676\n",
      "6600 0.00011993342\n",
      "6700 0.00011934971\n",
      "6800 0.00011880014\n",
      "6900 0.000118282485\n",
      "7000 0.00011779501\n",
      "7100 0.00011733588\n",
      "7200 0.0001169034\n",
      "7300 0.000116496005\n",
      "7400 0.00011611203\n",
      "7500 0.00011575067\n",
      "7600 0.00011541025\n",
      "7700 0.000115089795\n",
      "7800 0.00011478834\n",
      "7900 0.000114504895\n",
      "8000 0.00011423858\n",
      "8100 0.0001139885\n",
      "8200 0.0001137538\n",
      "8300 0.00011353383\n",
      "8400 0.00011332778\n",
      "8500 0.00011313495\n",
      "8600 0.000112954855\n",
      "8700 0.00011278675\n",
      "8800 0.000112630194\n",
      "8900 0.00011248448\n",
      "9000 0.00011234903\n",
      "9100 0.00011222338\n",
      "9200 0.00011210687\n",
      "9300 0.00011199911\n",
      "9400 0.00011189952\n",
      "9500 0.00011180752\n",
      "9600 0.000111722824\n",
      "9700 0.00011164483\n",
      "9800 0.000111572976\n",
      "9900 0.00011150713\n"
     ]
    },
    {
     "data": {
      "image/png": "[encoded data removed]",
      "text/plain": [
       "<Figure size 432x288 with 1 Axes>"
      ]
     },
     "metadata": {
      "needs_background": "light"
     },
     "output_type": "display_data"
    }
   ],
   "source": [
    "for i in range(10000):\n",
    "    optimizer.zero_grad()\n",
    "    prob = do_full_bracket_multi_level(human_ratings_tensor,xp)\n",
    "    loss = loss_func(prob,target)\n",
    "    loss.backward()\n",
    "    losses.append(loss.detach().numpy())\n",
    "    optimizer.step()\n",
    "    if i%100==0:\n",
    "        print(i,loss.detach().numpy())\n",
    "        plt.plot(losses)\n",
    "        #print(ratings_tensor)\n"
   ]
  },
  {
   "cell_type": "code",
   "execution_count": 388,
   "metadata": {},
   "outputs": [
    {
     "data": {
      "text/plain": [
       "[<matplotlib.lines.Line2D at 0x7fb94f85a898>]"
      ]
     },
     "execution_count": 388,
     "metadata": {},
     "output_type": "execute_result"
    },
    {
     "data": {
      "image/png": "[encoded data removed]",
      "text/plain": [
       "<Figure size 432x288 with 1 Axes>"
      ]
     },
     "metadata": {
      "needs_background": "light"
     },
     "output_type": "display_data"
    }
   ],
   "source": [
    "ratings_tensor\n",
    "plt.plot(losses)"
   ]
  },
  {
   "cell_type": "code",
   "execution_count": 389,
   "metadata": {},
   "outputs": [
    {
     "data": {
      "text/plain": [
       "[('Gonzaga', 29.377132, 0.9864856, 0.977184),\n",
       " ('Baylor', 24.020514, 0.97605705, 0.961392),\n",
       " ('Illinois', 24.692236, 0.97520465, 0.955053),\n",
       " ('Michigan', 23.099136, 0.973291, 0.956712),\n",
       " ('Ohio St.', 20.054392, 0.9667928, 0.952931),\n",
       " ('Iowa', 20.943422, 0.9659358, 0.959706),\n",
       " ('Houston', 18.34067, 0.9510989, 0.935286),\n",
       " ('Kansas', 19.366982, 0.9469647, 0.939874),\n",
       " ('Texas', 18.775782, 0.93951607, 0.926278),\n",
       " ('Alabama', 19.63144, 0.93674564, 0.924722),\n",
       " ('West Virginia', 18.012302, 0.9270911, 0.907206),\n",
       " ('Florida St.', 16.989653, 0.91854566, 0.902665),\n",
       " ('Purdue', 14.5259495, 0.90104693, 0.886197),\n",
       " ('Arkansas', 15.370634, 0.8650632, 0.851917),\n",
       " ('Oklahoma St.', 17.303885, 0.85863674, 0.842984),\n",
       " ('Virginia', 17.108685, 0.8506472, 0.845838),\n",
       " ('USC', 14.216245, 0.8126195, 0.793014),\n",
       " ('Tennessee', 14.955133, 0.7779553, 0.757456),\n",
       " ('Creighton', 14.889521, 0.7591516, 0.749402),\n",
       " ('Villanova', 16.145567, 0.75700843, 0.737188),\n",
       " ('Texas Tech', 14.371586, 0.75041974, 0.729478),\n",
       " ('BYU', 13.577886, 0.68816787, 0.666404),\n",
       " ('LSU', 13.159858, 0.6877444, 0.669249),\n",
       " ('Oregon', 14.176988, 0.68358284, 0.669175),\n",
       " ('Oklahoma', 13.728381, 0.6211808, 0.608307),\n",
       " ('Clemson', 11.031568, 0.6029311, 0.580413),\n",
       " ('SDSU', 14.512215, 0.58638185, 0.55768),\n",
       " ('North Carolina', 14.686809, 0.55142814, 0.529535),\n",
       " ('Florida', 11.10049, 0.536524, 0.512196),\n",
       " ('Loyola (IL)', 12.1020355, 0.52737486, 0.504532),\n",
       " ('Connecticut', 12.602629, 0.52514154, 0.498638),\n",
       " ('Colorado', 13.340274, 0.5112902, 0.4852),\n",
       " ('Georgetown', 13.08684, 0.4887098, 0.476266),\n",
       " ('Maryland', 12.03789, 0.47485846, 0.460391),\n",
       " ('Georgia Tech', 11.487036, 0.47262514, 0.450438),\n",
       " ('Virginia Tech', 10.279304, 0.463476, 0.444785),\n",
       " ('Wisconsin', 13.528489, 0.44857186, 0.431931),\n",
       " ('Syracuse', 12.55387, 0.41361815, 0.396604),\n",
       " ('Rutgers', 8.687947, 0.39706892, 0.372537),\n",
       " ('Missouri', 10.953462, 0.37881923, 0.364669),\n",
       " ('VCU', 9.855024, 0.31641716, 0.303153),\n",
       " ('St. Bonaventure', 8.729547, 0.31225562, 0.29003),\n",
       " ('MSU/UCLA', 9.136506, 0.31183213, 0.27409),\n",
       " ('Utah St.', 8.194867, 0.24958026, 0.229237),\n",
       " ('Winthrop', 9.769681, 0.24299157, 0.225307),\n",
       " ('UCSB', 8.448073, 0.24084842, 0.225789),\n",
       " ('Oregon St.', 7.920307, 0.2220447, 0.197746),\n",
       " ('WICH/DRKE', 5.9844437, 0.1873805, 0.161177),\n",
       " ('Ohio', 7.3475604, 0.14935279, 0.131846),\n",
       " ('Liberty', 7.1818333, 0.14136326, 0.114868),\n",
       " ('Colgate', 4.945688, 0.13493681, 0.110921),\n",
       " ('North Texas', 2.131976, 0.09895307, 0.077086),\n",
       " ('N.C. Greensboro', 3.3959506, 0.08145434, 0.060627),\n",
       " ('Morehead St.', 3.7447941, 0.07290888, 0.051619),\n",
       " ('Iona', 4.508812, 0.06325436, 0.04667),\n",
       " ('Abilene Christian', 3.385279, 0.060483932, 0.040443),\n",
       " ('Eastern Wash.', 3.1948225, 0.05303532, 0.040507),\n",
       " ('Cleveland St.', 1.6887282, 0.04890108, 0.029961),\n",
       " ('Grand Canyon', 2.1759427, 0.034064174, 0.026959),\n",
       " ('Oral Roberts', 1.1391103, 0.033207178, 0.019211),\n",
       " ('MSM/TXSO', 2.9246137, 0.02670902, 0.009814),\n",
       " ('Drexel', 4.089914, 0.024795353, 0.016134),\n",
       " ('Hartford', 3.2165043, 0.023942947, 0.015476),\n",
       " ('NORF/APPST', 5.304792, 0.0135143995, 0.008711)]"
      ]
     },
     "execution_count": 389,
     "metadata": {},
     "output_type": "execute_result"
    }
   ],
   "source": [
    "\n",
    "human_ratings_np = human_ratings_tensor.detach().numpy()\n",
    "prob_np = prob.detach().numpy()\n",
    "target_np = target.numpy()\n",
    "names_prob = list(zip(names,human_ratings_np,prob_np,target_np))\n",
    "sorted(names_prob,key=lambda x: -x[2])"
   ]
  },
  {
   "cell_type": "code",
   "execution_count": 406,
   "metadata": {},
   "outputs": [
    {
     "name": "stdout",
     "output_type": "stream",
     "text": [
      "Team,Infered human rating,Computer rating,diff\n",
      "Gonzaga,29.38,25.9,3.48\n",
      "Illinois,24.69,21.7,2.99\n",
      "Baylor,24.02,23.1,0.92\n",
      "Michigan,23.10,20.4,2.70\n",
      "Iowa,20.94,20.9,0.04\n",
      "Ohio St.,20.05,17.5,2.55\n",
      "Alabama,19.63,18.0,1.63\n",
      "Kansas,19.37,17.1,2.27\n",
      "Texas,18.78,16.5,2.28\n",
      "Houston,18.34,19.9,-1.56\n",
      "West Virginia,18.01,16.2,1.81\n",
      "Oklahoma St.,17.30,14.3,3.00\n",
      "Virginia,17.11,16.2,0.91\n",
      "Florida St.,16.99,16.7,0.29\n",
      "Villanova,16.15,17.9,-1.75\n",
      "Arkansas,15.37,16.2,-0.83\n",
      "Tennessee,14.96,16.5,-1.54\n",
      "Creighton,14.89,16.9,-2.01\n",
      "North Carolina,14.69,14.9,-0.21\n",
      "Purdue,14.53,15.2,-0.67\n",
      "SDSU,14.51,14.5,0.01\n",
      "Texas Tech,14.37,16.9,-2.53\n",
      "USC,14.22,15.9,-1.68\n",
      "Oregon,14.18,13.9,0.28\n",
      "Oklahoma,13.73,14.1,-0.37\n",
      "BYU,13.58,13.9,-0.32\n",
      "Wisconsin,13.53,15.9,-2.37\n",
      "Colorado,13.34,16.0,-2.66\n",
      "LSU,13.16,14.6,-1.44\n",
      "Georgetown,13.09,9.7,3.39\n",
      "Connecticut,12.60,15.2,-2.60\n",
      "Syracuse,12.55,12.3,0.25\n",
      "Loyola (IL),12.10,13.9,-1.80\n",
      "Maryland,12.04,12.6,-0.56\n",
      "Georgia Tech,11.49,13.1,-1.61\n",
      "Florida,11.10,13.2,-2.10\n",
      "Clemson,11.03,12.5,-1.47\n",
      "Missouri,10.95,11.4,-0.45\n",
      "Virginia Tech,10.28,12.3,-2.02\n",
      "VCU,9.86,10.7,-0.84\n",
      "Winthrop,9.77,5.8,3.97\n",
      "MSU/UCLA,9.14,12.6,-3.46\n",
      "St. Bonaventure,8.73,12.7,-3.97\n",
      "Rutgers,8.69,13.0,-4.31\n",
      "UCSB,8.45,6.4,2.05\n",
      "Utah St.,8.19,12.1,-3.91\n",
      "Oregon St.,7.92,7.8,0.12\n",
      "Ohio,7.35,5.2,2.15\n",
      "Liberty,7.18,4.6,2.58\n",
      "WICH/DRKE,5.98,8.4,-2.42\n",
      "NORF/APPST,5.30,4.2,1.10\n",
      "Colgate,4.95,8.8,-3.85\n",
      "Iona,4.51,0.1,4.41\n",
      "Drexel,4.09,0.8,3.29\n",
      "Morehead St.,3.74,0.1,3.64\n",
      "N.C. Greensboro,3.40,5.1,-1.70\n",
      "Abilene Christian,3.39,6.0,-2.61\n",
      "Hartford,3.22,2.4,0.82\n",
      "Eastern Wash.,3.19,4.6,-1.41\n",
      "MSM/TXSO,2.92,4.0,-1.08\n",
      "Grand Canyon,2.18,4.5,-2.32\n",
      "North Texas,2.13,7.9,-5.77\n",
      "Cleveland St.,1.69,2.0,-0.31\n",
      "Oral Roberts,1.14,0.9,0.24\n"
     ]
    }
   ],
   "source": [
    "names_prob = list(zip(names,human_ratings_np,ratings,human_ratings_np-ratings))\n",
    "print(\"{},{},{},{}\".format(\"Team\", \"Infered human rating\", \"Computer rating\", \"diff\"))\n",
    "for name, hr, tr, diff in sorted(names_prob,key=lambda x: -x[1]):\n",
    "    print(\"{},{:.2f},{},{:.2f}\".format(name, hr, tr, diff))"
   ]
  },
  {
   "cell_type": "code",
   "execution_count": 391,
   "metadata": {},
   "outputs": [
    {
     "data": {
      "text/plain": [
       "<matplotlib.collections.PathCollection at 0x7fb95346c080>"
      ]
     },
     "execution_count": 391,
     "metadata": {},
     "output_type": "execute_result"
    },
    {
     "data": {
      "image/png": "[encoded data removed]",
      "text/plain": [
       "<Figure size 432x288 with 1 Axes>"
      ]
     },
     "metadata": {
      "needs_background": "light"
     },
     "output_type": "display_data"
    }
   ],
   "source": [
    "plt.scatter(target_np,prob_np)\n"
   ]
  },
  {
   "cell_type": "code",
   "execution_count": 392,
   "metadata": {},
   "outputs": [],
   "source": [
    "from scipy.stats import norm\n",
    "\n",
    "x = np.linspace(-20,20,100)\n",
    "norm = norm.cdf(x, loc=0, scale=9.5)\n",
    "logisitic = (1/(1+(e*2)**(-(x)/9.5) ) )"
   ]
  },
  {
   "cell_type": "code",
   "execution_count": 393,
   "metadata": {},
   "outputs": [],
   "source": [
    "targets = [[human_picks[name][x]/100. for name in names] for x in range(6)]"
   ]
  },
  {
   "cell_type": "code",
   "execution_count": 394,
   "metadata": {},
   "outputs": [],
   "source": [
    "def do_full_bracket_print(rankings,prob):\n",
    "    probs = []\n",
    "    power = math.log(rankings.shape[0])/math.log(2)\n",
    "    assert power.is_integer(), \"must be multiple of two\"\n",
    "    power = int(power)\n",
    "    for x in range(power):\n",
    "        l_power = 2**x\n",
    "        prob,n_rounds = one_round(rankings,prob,2*l_power,l_power,logisitic)\n",
    "        probs.append(prob.detach().numpy())\n",
    "        #print(prob)\n",
    "    return probs"
   ]
  },
  {
   "cell_type": "code",
   "execution_count": 395,
   "metadata": {},
   "outputs": [],
   "source": [
    "predicted = do_full_bracket_print(human_ratings_tensor,xp)"
   ]
  },
  {
   "cell_type": "code",
   "execution_count": 396,
   "metadata": {},
   "outputs": [
    {
     "data": {
      "image/png": "[encoded data removed]",
      "text/plain": [
       "<Figure size 432x288 with 1 Axes>"
      ]
     },
     "metadata": {
      "needs_background": "light"
     },
     "output_type": "display_data"
    },
    {
     "data": {
      "image/png": "[encoded data removed]",
      "text/plain": [
       "<Figure size 432x288 with 1 Axes>"
      ]
     },
     "metadata": {
      "needs_background": "light"
     },
     "output_type": "display_data"
    },
    {
     "data": {
      "image/png": "[encoded data removed]",
      "text/plain": [
       "<Figure size 432x288 with 1 Axes>"
      ]
     },
     "metadata": {
      "needs_background": "light"
     },
     "output_type": "display_data"
    },
    {
     "data": {
      "image/png": "[encoded data removed]",
      "text/plain": [
       "<Figure size 432x288 with 1 Axes>"
      ]
     },
     "metadata": {
      "needs_background": "light"
     },
     "output_type": "display_data"
    },
    {
     "data": {
      "image/png": "[encoded data removed]",
      "text/plain": [
       "<Figure size 432x288 with 1 Axes>"
      ]
     },
     "metadata": {
      "needs_background": "light"
     },
     "output_type": "display_data"
    },
    {
     "data": {
      "image/png": "[encoded data removed]",
      "text/plain": [
       "<Figure size 432x288 with 1 Axes>"
      ]
     },
     "metadata": {
      "needs_background": "light"
     },
     "output_type": "display_data"
    },
    {
     "data": {
      "text/plain": [
       "<Figure size 432x288 with 0 Axes>"
      ]
     },
     "metadata": {},
     "output_type": "display_data"
    }
   ],
   "source": [
    "for i,(pred, tar) in enumerate(zip(predicted,targets)):\n",
    "    plt.scatter(tar,pred, label=\"round: {}\".format(i))\n",
    "    plt.ylabel(\"prediction\")\n",
    "    plt.xlabel(\"target\")\n",
    "    x = np.linspace(0,1,3)\n",
    "    plt.plot(x,x)\n",
    "    plt.legend()\n",
    "    plt.show()\n",
    "    plt.clf()"
   ]
  },
  {
   "cell_type": "code",
   "execution_count": 706,
   "metadata": {},
   "outputs": [
    {
     "data": {
      "text/plain": [
       "<matplotlib.legend.Legend at 0x7fde91c077f0>"
      ]
     },
     "execution_count": 706,
     "metadata": {},
     "output_type": "execute_result"
    },
    {
     "data": {
      "image/png": "[encoded data removed]",
      "text/plain": [
       "<Figure size 432x288 with 1 Axes>"
      ]
     },
     "metadata": {
      "needs_background": "light"
     },
     "output_type": "display_data"
    }
   ],
   "source": [
    "plt.plot(norm, label=\"norm\")\n",
    "plt.plot(logisitic, label=\"logisitic\")\n",
    "plt.legend()"
   ]
  },
  {
   "cell_type": "code",
   "execution_count": 703,
   "metadata": {},
   "outputs": [
    {
     "data": {
      "text/plain": [
       "5.4"
      ]
     },
     "execution_count": 703,
     "metadata": {},
     "output_type": "execute_result"
    }
   ],
   "source": [
    "2.7*2"
   ]
  },
  {
   "cell_type": "code",
   "execution_count": 229,
   "metadata": {},
   "outputs": [],
   "source": [
    "m = nn.LogSoftmax(dim=1)\n",
    "loss = nn.NLLLoss()\n",
    "# input is of size N x C = 3 x 5\n",
    "input = torch.randn(3, 5, requires_grad=True)\n",
    "# each element in target has to have 0 <= value < C\n",
    "target = torch.tensor([1, 0, 4])\n",
    "output = loss(m(input), target)\n",
    "output.backward()"
   ]
  },
  {
   "cell_type": "code",
   "execution_count": 230,
   "metadata": {},
   "outputs": [
    {
     "data": {
      "text/plain": [
       "tensor([[-0.6440, -0.6569,  0.7668, -1.3241, -0.2552],\n",
       "        [ 0.5537,  1.8828, -0.3636,  0.9727,  1.1204],\n",
       "        [-1.0023,  1.0026, -0.5451, -0.3423,  1.0632]], requires_grad=True)"
      ]
     },
     "execution_count": 230,
     "metadata": {},
     "output_type": "execute_result"
    }
   ],
   "source": [
    "input"
   ]
  },
  {
   "cell_type": "code",
   "execution_count": 231,
   "metadata": {},
   "outputs": [
    {
     "data": {
      "text/plain": [
       "tensor([1, 0, 4])"
      ]
     },
     "execution_count": 231,
     "metadata": {},
     "output_type": "execute_result"
    }
   ],
   "source": [
    "target"
   ]
  },
  {
   "cell_type": "code",
   "execution_count": null,
   "metadata": {},
   "outputs": [],
   "source": []
  }
 ],
 "metadata": {
  "kernelspec": {
   "display_name": "mmEnv",
   "language": "python",
   "name": "mmenv"
  },
  "language_info": {
   "codemirror_mode": {
    "name": "ipython",
    "version": 3
   },
   "file_extension": ".py",
   "mimetype": "text/x-python",
   "name": "python",
   "nbconvert_exporter": "python",
   "pygments_lexer": "ipython3",
   "version": "3.6.5"
  }
 },
 "nbformat": 4,
 "nbformat_minor": 4
}
