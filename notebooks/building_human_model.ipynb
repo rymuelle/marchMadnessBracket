{
 "cells": [
  {
   "cell_type": "code",
   "execution_count": 153,
   "metadata": {},
   "outputs": [],
   "source": [
    "import torch\n",
    "import torch.nn as nn\n",
    "import matplotlib.pyplot as plt\n",
    "from math import e\n",
    "from marchMadnessBracket.torch_bracket import *"
   ]
  },
  {
   "cell_type": "code",
   "execution_count": 154,
   "metadata": {},
   "outputs": [],
   "source": [
    "xpower = torch.arange(1, 65,dtype=float)\n",
    "xp = torch.full((1, 64), 1.)"
   ]
  },
  {
   "cell_type": "code",
   "execution_count": 155,
   "metadata": {
    "scrolled": true
   },
   "outputs": [
    {
     "data": {
      "text/plain": [
       "(tensor([ 1.,  2.,  3.,  4.,  5.,  6.,  7.,  8.,  9., 10., 11., 12., 13., 14.,\n",
       "         15., 16., 17., 18., 19., 20., 21., 22., 23., 24., 25., 26., 27., 28.,\n",
       "         29., 30., 31., 32., 33., 34., 35., 36., 37., 38., 39., 40., 41., 42.,\n",
       "         43., 44., 45., 46., 47., 48., 49., 50., 51., 52., 53., 54., 55., 56.,\n",
       "         57., 58., 59., 60., 61., 62., 63., 64.], dtype=torch.float64),\n",
       " tensor([[1., 1., 1., 1., 1., 1., 1., 1., 1., 1., 1., 1., 1., 1., 1., 1., 1., 1.,\n",
       "          1., 1., 1., 1., 1., 1., 1., 1., 1., 1., 1., 1., 1., 1., 1., 1., 1., 1.,\n",
       "          1., 1., 1., 1., 1., 1., 1., 1., 1., 1., 1., 1., 1., 1., 1., 1., 1., 1.,\n",
       "          1., 1., 1., 1., 1., 1., 1., 1., 1., 1.]]))"
      ]
     },
     "execution_count": 155,
     "metadata": {},
     "output_type": "execute_result"
    }
   ],
   "source": [
    "xpower,xp"
   ]
  },
  {
   "cell_type": "code",
   "execution_count": 156,
   "metadata": {},
   "outputs": [
    {
     "data": {
      "text/plain": [
       "[<matplotlib.lines.Line2D at 0x7fba3e871898>]"
      ]
     },
     "execution_count": 156,
     "metadata": {},
     "output_type": "execute_result"
    },
    {
     "data": {
      "image/png": "[encoded data removed]",
      "text/plain": [
       "<Figure size 432x288 with 1 Axes>"
      ]
     },
     "metadata": {
      "needs_background": "light"
     },
     "output_type": "display_data"
    }
   ],
   "source": [
    "prob = do_full_bracket(xpower,xp)\n",
    "plt.plot(prob)"
   ]
  },
  {
   "cell_type": "code",
   "execution_count": 157,
   "metadata": {},
   "outputs": [],
   "source": [
    "from marchMadnessBracket.utils import *\n",
    "from marchMadnessBracket.Team import Team\n",
    "from marchMadnessBracket.Bracket import Bracket\n",
    "teams = [['Gonzaga', 25.9],\n",
    " ['NORF/APPST', 4.2],\n",
    " ['Oklahoma', 14.1],\n",
    " ['Missouri', 11.4],\n",
    " ['Creighton', 16.9],\n",
    " ['UCSB', 6.4],\n",
    " ['Virginia', 16.2],\n",
    " ['Ohio', 5.2],\n",
    " ['USC', 15.9],\n",
    " ['WICH/DRKE', 8.4],\n",
    " ['Kansas', 17.1],\n",
    " ['Eastern Wash.', 4.6],\n",
    " ['Oregon', 13.9],\n",
    " ['VCU', 10.7],\n",
    " ['Iowa', 20.9],\n",
    " ['Grand Canyon', 4.5],\n",
    " ['Michigan', 20.4],\n",
    " ['MSM/TXSO', 4.0],\n",
    " ['LSU', 14.6],\n",
    " ['St. Bonaventure', 12.7],\n",
    " ['Colorado', 16.0],\n",
    " ['Georgetown', 9.7],\n",
    " ['Florida St.', 16.7],\n",
    " ['N.C. Greensboro', 5.1],\n",
    " ['BYU', 13.9],\n",
    " ['MSU/UCLA', 12.6],\n",
    " ['Texas', 16.5],\n",
    " ['Abilene Christian', 6.0],\n",
    " ['Connecticut', 15.2],\n",
    " ['Maryland', 12.6],\n",
    " ['Alabama', 18.0],\n",
    " ['Iona', 0.1],\n",
    " ['Baylor', 23.1],\n",
    " ['Hartford', 2.4],\n",
    " ['North Carolina', 14.9],\n",
    " ['Wisconsin', 15.9],\n",
    " ['Villanova', 17.9],\n",
    " ['Winthrop', 5.8],\n",
    " ['Purdue', 15.2],\n",
    " ['North Texas', 7.9],\n",
    " ['Texas Tech', 16.9],\n",
    " ['Utah St.', 12.1],\n",
    " ['Arkansas', 16.2],\n",
    " ['Colgate', 8.8],\n",
    " ['Florida', 13.2],\n",
    " ['Virginia Tech', 12.3],\n",
    " ['Ohio St.', 17.5],\n",
    " ['Oral Roberts', 0.9],\n",
    " ['Illinois', 21.7],\n",
    " ['Drexel', 0.8],\n",
    " ['Loyola (IL)', 13.9],\n",
    " ['Georgia Tech', 13.1],\n",
    " ['Tennessee', 16.5],\n",
    " ['Oregon St.', 7.8],\n",
    " ['Oklahoma St.', 14.3],\n",
    " ['Liberty', 4.6],\n",
    " ['SDSU', 14.5],\n",
    " ['Syracuse', 12.3],\n",
    " ['West Virginia', 16.2],\n",
    " ['Morehead St.', 0.1],\n",
    " ['Clemson', 12.5],\n",
    " ['Rutgers', 13.0],\n",
    " ['Houston', 19.9],\n",
    " ['Cleveland St.', 2.0]]\n",
    "\n",
    "teams = list(map(lambda x: Team(*x), teams))"
   ]
  },
  {
   "cell_type": "code",
   "execution_count": 158,
   "metadata": {},
   "outputs": [],
   "source": [
    "ratings = []\n",
    "names = []\n",
    "for team in teams:\n",
    "    ratings.append(team.rating)\n",
    "    names.append(team.name)"
   ]
  },
  {
   "cell_type": "code",
   "execution_count": 159,
   "metadata": {},
   "outputs": [],
   "source": [
    "ratings_tensor = torch.Tensor(ratings)"
   ]
  },
  {
   "cell_type": "code",
   "execution_count": 160,
   "metadata": {},
   "outputs": [
    {
     "data": {
      "text/plain": [
       "tensor(1.0000)"
      ]
     },
     "execution_count": 160,
     "metadata": {},
     "output_type": "execute_result"
    },
    {
     "data": {
      "image/png": "[encoded data removed]",
      "text/plain": [
       "<Figure size 432x288 with 1 Axes>"
      ]
     },
     "metadata": {
      "needs_background": "light"
     },
     "output_type": "display_data"
    }
   ],
   "source": [
    "prob = do_full_bracket(ratings_tensor,xp)\n",
    "plt.plot(prob)\n",
    "prob.sum()"
   ]
  },
  {
   "cell_type": "code",
   "execution_count": 161,
   "metadata": {},
   "outputs": [
    {
     "data": {
      "text/plain": [
       "[('Gonzaga', tensor(0.3393)),\n",
       " ('Baylor', tensor(0.1617)),\n",
       " ('Illinois', tensor(0.1147)),\n",
       " ('Iowa', tensor(0.0704)),\n",
       " ('Michigan', tensor(0.0682)),\n",
       " ('Houston', tensor(0.0592)),\n",
       " ('Alabama', tensor(0.0255)),\n",
       " ('Ohio St.', tensor(0.0204)),\n",
       " ('Villanova', tensor(0.0186)),\n",
       " ('Florida St.', tensor(0.0111)),\n",
       " ('Texas', tensor(0.0109)),\n",
       " ('Kansas', tensor(0.0108)),\n",
       " ('Texas Tech', tensor(0.0099)),\n",
       " ('West Virginia', tensor(0.0096)),\n",
       " ('Tennessee', tensor(0.0095)),\n",
       " ('Creighton', tensor(0.0081)),\n",
       " ('Arkansas', tensor(0.0076)),\n",
       " ('Colorado', tensor(0.0061)),\n",
       " ('Virginia', tensor(0.0055)),\n",
       " ('USC', tensor(0.0046)),\n",
       " ('Purdue', tensor(0.0034)),\n",
       " ('Connecticut', tensor(0.0033)),\n",
       " ('Wisconsin', tensor(0.0030)),\n",
       " ('Oklahoma St.', tensor(0.0027)),\n",
       " ('SDSU', tensor(0.0021)),\n",
       " ('LSU', tensor(0.0019)),\n",
       " ('BYU', tensor(0.0015)),\n",
       " ('North Carolina', tensor(0.0014)),\n",
       " ('Loyola (IL)', tensor(0.0011)),\n",
       " ('Oregon', tensor(0.0011)),\n",
       " ('Oklahoma', tensor(0.0009)),\n",
       " ('Florida', tensor(0.0009)),\n",
       " ('Rutgers', tensor(0.0007)),\n",
       " ('Georgia Tech', tensor(0.0006)),\n",
       " ('MSU/UCLA', tensor(0.0006)),\n",
       " ('Clemson', tensor(0.0005)),\n",
       " ('Maryland', tensor(0.0005)),\n",
       " ('St. Bonaventure', tensor(0.0005)),\n",
       " ('Virginia Tech', tensor(0.0004)),\n",
       " ('Syracuse', tensor(0.0004)),\n",
       " ('Utah St.', tensor(0.0003)),\n",
       " ('Missouri', tensor(0.0001)),\n",
       " ('VCU', tensor(8.0104e-05)),\n",
       " ('Georgetown', tensor(4.7198e-05)),\n",
       " ('Colgate', tensor(2.2758e-05)),\n",
       " ('WICH/DRKE', tensor(1.1813e-05)),\n",
       " ('Oregon St.', tensor(1.1002e-05)),\n",
       " ('North Texas', tensor(8.8177e-06)),\n",
       " ('Abilene Christian', tensor(2.1891e-06)),\n",
       " ('UCSB', tensor(1.7701e-06)),\n",
       " ('Winthrop', tensor(1.3095e-06)),\n",
       " ('N.C. Greensboro', tensor(8.4220e-07)),\n",
       " ('Liberty', tensor(6.6444e-07)),\n",
       " ('Ohio', tensor(6.0792e-07)),\n",
       " ('Eastern Wash.', tensor(3.9774e-07)),\n",
       " ('Grand Canyon', tensor(3.2509e-07)),\n",
       " ('MSM/TXSO', tensor(2.4384e-07)),\n",
       " ('NORF/APPST', tensor(1.7867e-07)),\n",
       " ('Cleveland St.', tensor(4.3038e-08)),\n",
       " ('Hartford', tensor(3.1482e-08)),\n",
       " ('Oral Roberts', tensor(1.6836e-08)),\n",
       " ('Drexel', tensor(1.1275e-08)),\n",
       " ('Morehead St.', tensor(7.4626e-09)),\n",
       " ('Iona', tensor(6.6343e-09))]"
      ]
     },
     "execution_count": 161,
     "metadata": {},
     "output_type": "execute_result"
    }
   ],
   "source": [
    "names_prob = list(zip(names,prob))\n",
    "sorted(names_prob,key=lambda x: -x[1])"
   ]
  },
  {
   "cell_type": "code",
   "execution_count": 162,
   "metadata": {},
   "outputs": [],
   "source": [
    "human_picks = {'Gonzaga': [97.7184, 93.121, 85.7853, 72.3422, 59.9904, 43.5631],\n",
    " 'Baylor': [96.1392, 82.5877, 70.2927, 50.7066, 29.6117, 8.6977],\n",
    " 'Iowa': [95.9706, 77.2913, 48.3535, 10.8907, 5.5001, 2.4422],\n",
    " 'Michigan': [95.6712, 84.333, 66.9569, 46.4992, 14.843, 9.0988],\n",
    " 'Illinois': [95.5053, 87.9137, 72.8701, 57.482, 33.7767, 15.6837],\n",
    " 'Ohio St.': [95.2931, 80.7313, 59.1219, 24.7422, 10.2383, 3.0282],\n",
    " 'Kansas': [93.9874, 70.0629, 33.5628, 7.9222, 3.9552, 2.0714],\n",
    " 'Houston': [93.5286, 76.5244, 43.6078, 14.1668, 5.8786, 1.6965],\n",
    " 'Texas': [92.6278, 69.8685, 36.6484, 14.919, 2.9774, 1.1377],\n",
    " 'Alabama': [92.4722, 73.4387, 42.4985, 19.3409, 4.5083, 1.8481],\n",
    " 'West Virginia': [90.7206, 62.7244, 34.7381, 9.3002, 3.4422, 0.9458],\n",
    " 'Florida St.': [90.2665, 59.6703, 18.6316, 7.7381, 1.4897, 0.5972],\n",
    " 'Purdue': [88.6197, 43.8941, 7.8438, 2.8696, 1.0671, 0.3829],\n",
    " 'Arkansas': [85.1917, 51.1321, 17.9848, 5.3602, 1.8732, 0.5729],\n",
    " 'Virginia': [84.5838, 53.8875, 6.9071, 3.2329, 1.3913, 0.6729],\n",
    " 'Oklahoma St.': [84.2984, 55.0067, 13.0297, 7.7763, 3.3117, 0.9377],\n",
    " 'USC': [79.3014, 23.2515, 8.0756, 0.857, 0.3313, 0.1768],\n",
    " 'Tennessee': [75.7456, 33.7112, 6.6588, 2.5973, 0.8784, 0.288],\n",
    " 'Creighton': [74.9402, 33.7112, 2.271, 0.7962, 0.3353, 0.1445],\n",
    " 'Villanova': [73.7188, 44.7711, 11.067, 5.7852, 3.0688, 0.9144],\n",
    " 'Texas Tech': [72.9478, 36.7414, 12.5516, 2.4436, 0.773, 0.2647],\n",
    " 'LSU': [66.9249, 9.3682, 4.1221, 1.3564, 0.3503, 0.1576],\n",
    " 'Oregon': [66.9175, 16.454, 5.9151, 0.9804, 0.4307, 0.2193],\n",
    " 'BYU': [66.6404, 18.4329, 7.198, 1.2066, 0.249, 0.1122],\n",
    " 'Oklahoma': [60.8307, 2.9651, 1.6843, 0.4838, 0.1707, 0.0738],\n",
    " 'Clemson': [58.0413, 13.1452, 3.9398, 1.1518, 0.3965, 0.1273],\n",
    " 'SDSU': [55.768, 22.1122, 9.4254, 1.6738, 0.6234, 0.2577],\n",
    " 'North Carolina': [52.9535, 9.0819, 5.2043, 2.7912, 1.3622, 0.6709],\n",
    " 'Florida': [51.2196, 9.891, 3.6586, 0.9226, 0.4367, 0.1748],\n",
    " 'Loyola (IL)': [50.4532, 4.9852, 2.1333, 0.8942, 0.3754, 0.1586],\n",
    " 'Connecticut': [49.8638, 13.0389, 4.8329, 1.6689, 0.525, 0.3223],\n",
    " 'Colorado': [48.52, 19.7513, 3.2814, 1.1841, 0.2961, 0.1344],\n",
    " 'Georgetown': [47.6266, 16.0586, 2.9614, 1.2771, 0.4859, 0.3193],\n",
    " 'Maryland': [46.0391, 8.7784, 2.6007, 0.4975, 0.1526, 0.0717],\n",
    " 'Georgia Tech': [45.0438, 3.7157, 1.5379, 0.6454, 0.254, 0.1213],\n",
    " 'Virginia Tech': [44.4785, 5.9503, 2.3641, 0.4094, 0.1576, 0.0717],\n",
    " 'Wisconsin': [43.1931, 5.282, 2.3845, 1.044, 0.3724, 0.19],\n",
    " 'Syracuse': [39.6604, 10.5793, 3.7624, 1.3271, 0.7298, 0.5244],\n",
    " 'Rutgers': [37.2537, 6.2193, 1.344, 0.2938, 0.1154, 0.0606],\n",
    " 'Missouri': [36.4669, 1.7444, 0.7021, 0.2938, 0.1265, 0.0738],\n",
    " 'VCU': [30.3153, 3.4553, 0.8562, 0.1606, 0.0663, 0.0293],\n",
    " 'St. Bonaventure': [29.003, 2.5955, 0.799, 0.3056, 0.0914, 0.0404],\n",
    " 'MSU/UCLA': [27.409, 6.4797, 1.9685, 0.6679, 0.2439, 0.1768],\n",
    " 'Utah St.': [22.9237, 5.3634, 0.864, 0.2047, 0.0803, 0.0374],\n",
    " 'UCSB': [22.5789, 5.4811, 0.4073, 0.1704, 0.0853, 0.0404],\n",
    " 'Winthrop': [22.5307, 6.8292, 0.5498, 0.237, 0.0964, 0.0333],\n",
    " 'Oregon St.': [19.7746, 3.9847, 0.6768, 0.2674, 0.1446, 0.0647],\n",
    " 'WICH/DRKE': [16.1177, 2.6884, 0.5227, 0.1401, 0.0632, 0.0323],\n",
    " 'Ohio': [13.1846, 4.8292, 0.6594, 0.191, 0.0823, 0.0354],\n",
    " 'Liberty': [11.4868, 4.1752, 0.5789, 0.1988, 0.0783, 0.0313],\n",
    " 'Colgate': [11.0921, 3.843, 0.9551, 0.3379, 0.1968, 0.0354],\n",
    " 'North Texas': [7.7086, 1.6659, 0.3268, 0.1332, 0.0572, 0.0364],\n",
    " 'N.C. Greensboro': [6.0627, 1.5481, 0.3093, 0.1234, 0.0542, 0.0202],\n",
    " 'Morehead St.': [5.1619, 1.4074, 0.3956, 0.141, 0.0723, 0.0263],\n",
    " 'Iona': [4.667, 1.9474, 0.9125, 0.5543, 0.4136, 0.0404],\n",
    " 'Eastern Wash.': [4.0507, 1.259, 0.3442, 0.1156, 0.0522, 0.0212],\n",
    " 'Abilene Christian': [4.0443, 1.4897, 0.4897, 0.2272, 0.0763, 0.0404],\n",
    " 'Cleveland St.': [2.9961, 1.0646, 0.3888, 0.143, 0.0632, 0.0303],\n",
    " 'Grand Canyon': [2.6959, 1.0321, 0.4596, 0.1704, 0.0863, 0.0495],\n",
    " 'Oral Roberts': [1.9211, 0.7573, 0.3384, 0.1303, 0.0532, 0.0253],\n",
    " 'Drexel': [1.6134, 0.6788, 0.3801, 0.2125, 0.0984, 0.0546],\n",
    " 'Hartford': [1.5476, 0.539, 0.289, 0.1694, 0.0803, 0.0424],\n",
    " 'MSM/TXSO': [0.9814, 0.4222, 0.2405, 0.141, 0.0552, 0.0202],\n",
    " 'NORF/APPST': [0.8711, 0.3877, 0.2075, 0.1156, 0.0602, 0.0293]}"
   ]
  },
  {
   "cell_type": "code",
   "execution_count": 272,
   "metadata": {},
   "outputs": [],
   "source": [
    "loss_func = nn.BCELoss()\n",
    "loss_func = nn.KLDivLoss()\n",
    "loss_func = nn.MSELoss()"
   ]
  },
  {
   "cell_type": "code",
   "execution_count": 273,
   "metadata": {},
   "outputs": [
    {
     "data": {
      "text/plain": [
       "tensor([4.3563e-01, 2.9300e-04, 7.3800e-04, 7.3800e-04, 1.4450e-03, 4.0400e-04,\n",
       "        6.7290e-03, 3.5400e-04, 1.7680e-03, 3.2300e-04, 2.0714e-02, 2.1200e-04,\n",
       "        2.1930e-03, 2.9300e-04, 2.4422e-02, 4.9500e-04, 9.0988e-02, 2.0200e-04,\n",
       "        1.5760e-03, 4.0400e-04, 1.3440e-03, 3.1930e-03, 5.9720e-03, 2.0200e-04,\n",
       "        1.1220e-03, 1.7680e-03, 1.1377e-02, 4.0400e-04, 3.2230e-03, 7.1700e-04,\n",
       "        1.8481e-02, 4.0400e-04, 8.6977e-02, 4.2400e-04, 6.7090e-03, 1.9000e-03,\n",
       "        9.1440e-03, 3.3300e-04, 3.8290e-03, 3.6400e-04, 2.6470e-03, 3.7400e-04,\n",
       "        5.7290e-03, 3.5400e-04, 1.7480e-03, 7.1700e-04, 3.0282e-02, 2.5300e-04,\n",
       "        1.5684e-01, 5.4600e-04, 1.5860e-03, 1.2130e-03, 2.8800e-03, 6.4700e-04,\n",
       "        9.3770e-03, 3.1300e-04, 2.5770e-03, 5.2440e-03, 9.4580e-03, 2.6300e-04,\n",
       "        1.2730e-03, 6.0600e-04, 1.6965e-02, 3.0300e-04])"
      ]
     },
     "execution_count": 273,
     "metadata": {},
     "output_type": "execute_result"
    }
   ],
   "source": [
    "target = torch.tensor([human_picks[name][-1] for name in names])\n",
    "target = target/target.sum()\n",
    "target"
   ]
  },
  {
   "cell_type": "code",
   "execution_count": 274,
   "metadata": {},
   "outputs": [
    {
     "data": {
      "text/plain": [
       "tensor([25.9000,  4.2000, 14.1000, 11.4000, 16.9000,  6.4000, 16.2000,  5.2000,\n",
       "        15.9000,  8.4000, 17.1000,  4.6000, 13.9000, 10.7000, 20.9000,  4.5000,\n",
       "        20.4000,  4.0000, 14.6000, 12.7000, 16.0000,  9.7000, 16.7000,  5.1000,\n",
       "        13.9000, 12.6000, 16.5000,  6.0000, 15.2000, 12.6000, 18.0000,  0.1000,\n",
       "        23.1000,  2.4000, 14.9000, 15.9000, 17.9000,  5.8000, 15.2000,  7.9000,\n",
       "        16.9000, 12.1000, 16.2000,  8.8000, 13.2000, 12.3000, 17.5000,  0.9000,\n",
       "        21.7000,  0.8000, 13.9000, 13.1000, 16.5000,  7.8000, 14.3000,  4.6000,\n",
       "        14.5000, 12.3000, 16.2000,  0.1000, 12.5000, 13.0000, 19.9000,  2.0000])"
      ]
     },
     "execution_count": 274,
     "metadata": {},
     "output_type": "execute_result"
    }
   ],
   "source": [
    "human_ratings_tensor = torch.tensor(ratings, requires_grad=True)\n",
    "ratings_tensor"
   ]
  },
  {
   "cell_type": "code",
   "execution_count": 275,
   "metadata": {},
   "outputs": [],
   "source": [
    "optimizer = torch.optim.Adam([human_ratings_tensor], lr=1e-3)\n",
    "losses =[]"
   ]
  },
  {
   "cell_type": "code",
   "execution_count": 276,
   "metadata": {},
   "outputs": [
    {
     "name": "stdout",
     "output_type": "stream",
     "text": [
      "0 0.00033932508\n",
      "100 7.248414e-07\n",
      "200 2.5214146e-07\n",
      "300 1.5776068e-07\n",
      "400 1.214597e-07\n",
      "500 1.0779548e-07\n",
      "600 9.883905e-08\n",
      "700 9.277217e-08\n",
      "800 8.582058e-08\n",
      "900 7.836809e-08\n"
     ]
    },
    {
     "data": {
      "image/png": "[encoded data removed]",
      "text/plain": [
       "<Figure size 432x288 with 1 Axes>"
      ]
     },
     "metadata": {
      "needs_background": "light"
     },
     "output_type": "display_data"
    }
   ],
   "source": [
    "for i in range(1000):\n",
    "    optimizer.zero_grad()\n",
    "    prob = do_full_bracket(human_ratings_tensor,xp)\n",
    "    loss = loss_func(prob,target)\n",
    "    loss.backward()\n",
    "    losses.append(loss.detach().numpy())\n",
    "    optimizer.step()\n",
    "    if i%100==0:\n",
    "        print(i,loss.detach().numpy())\n",
    "        plt.plot(losses)\n",
    "        #print(ratings_tensor)\n"
   ]
  },
  {
   "cell_type": "code",
   "execution_count": 277,
   "metadata": {},
   "outputs": [
    {
     "data": {
      "text/plain": [
       "[<matplotlib.lines.Line2D at 0x7fb94ee17e10>]"
      ]
     },
     "execution_count": 277,
     "metadata": {},
     "output_type": "execute_result"
    },
    {
     "data": {
      "image/png": "[encoded data removed]",
      "text/plain": [
       "<Figure size 432x288 with 1 Axes>"
      ]
     },
     "metadata": {
      "needs_background": "light"
     },
     "output_type": "display_data"
    }
   ],
   "source": [
    "ratings_tensor\n",
    "plt.plot(losses)"
   ]
  },
  {
   "cell_type": "code",
   "execution_count": 309,
   "metadata": {},
   "outputs": [
    {
     "data": {
      "text/plain": [
       "[('Gonzaga', 27.333015, 0.4358231, 0.43563056, 25.9),\n",
       " ('Illinois', 23.175295, 0.15702544, 0.15683684, 21.7),\n",
       " ('Michigan', 21.855366, 0.09117988, 0.090987906, 20.4),\n",
       " ('Baylor', 21.708778, 0.08717312, 0.08697691, 23.1),\n",
       " ('Ohio St.', 18.66779, 0.030475898, 0.030281968, 17.5),\n",
       " ('Iowa', 19.219692, 0.024617225, 0.024421975, 20.9),\n",
       " ('Kansas', 18.636965, 0.020906795, 0.02071398, 17.1),\n",
       " ('Alabama', 18.116446, 0.018675072, 0.01848098, 18.0),\n",
       " ('Houston', 17.722143, 0.017157003, 0.016964983, 19.9),\n",
       " ('Texas', 17.308342, 0.01157037, 0.011376988, 16.5),\n",
       " ('West Virginia', 16.689497, 0.00964631, 0.0094579905, 16.2),\n",
       " ('Oklahoma St.', 16.796816, 0.009558114, 0.009376991, 14.3),\n",
       " ('Villanova', 16.70532, 0.009343318, 0.00914399, 17.9),\n",
       " ('Virginia', 16.728817, 0.006926071, 0.0067289937, 16.2),\n",
       " ('North Carolina', 17.471064, 0.0069096885, 0.006708993, 14.9),\n",
       " ('Florida St.', 16.328344, 0.0061670137, 0.005971994, 16.7),\n",
       " ('Arkansas', 15.912425, 0.005923794, 0.0057289945, 16.2),\n",
       " ('Syracuse', 16.680525, 0.005432196, 0.0052439948, 12.3),\n",
       " ('Purdue', 15.41511, 0.0040319795, 0.003828996, 15.2),\n",
       " ('Connecticut', 16.030882, 0.0034169229, 0.0032229966, 15.2),\n",
       " ('Georgetown', 16.0184, 0.0033868817, 0.0031929968, 9.7),\n",
       " ('Tennessee', 15.298122, 0.00304058, 0.002879997, 16.5),\n",
       " ('Texas Tech', 15.07213, 0.0028466247, 0.0026469973, 16.9),\n",
       " ('SDSU', 15.686024, 0.0027649878, 0.0025769975, 14.5),\n",
       " ('Oregon', 15.717472, 0.0023864887, 0.0021929978, 13.9),\n",
       " ('Wisconsin', 15.731843, 0.0021265678, 0.001899998, 15.9),\n",
       " ('MSU/UCLA', 15.086713, 0.0019623793, 0.0017679982, 12.6),\n",
       " ('USC', 14.86132, 0.0019618496, 0.0017679982, 15.9),\n",
       " ('Florida', 14.787607, 0.0019450492, 0.0017479982, 13.2),\n",
       " ('LSU', 15.1469, 0.0017712908, 0.0015759985, 14.6),\n",
       " ('Loyola (IL)', 15.192184, 0.0017116605, 0.0015859985, 13.9),\n",
       " ('Creighton', 14.708283, 0.0016997799, 0.0014449985, 16.9),\n",
       " ('Colorado', 14.905259, 0.0015449286, 0.0013439986, 16.0),\n",
       " ('Clemson', 14.378651, 0.0014657985, 0.0012729986, 12.5),\n",
       " ('BYU', 14.540063, 0.0013171925, 0.0011219989, 13.9),\n",
       " ('Georgia Tech', 14.805324, 0.0012847993, 0.0012129988, 13.1),\n",
       " ('Virginia Tech', 13.778135, 0.0009177338, 0.0007169993, 12.3),\n",
       " ('Maryland', 14.213443, 0.00091512594, 0.0007169993, 12.6),\n",
       " ('Rutgers', 13.5954485, 0.00081181404, 0.00060599943, 13.0),\n",
       " ('St. Bonaventure', 13.71233, 0.00060159573, 0.00040399958, 12.7),\n",
       " ('Utah St.', 12.928474, 0.0005803376, 0.00037399962, 12.1),\n",
       " ('Oklahoma', 13.050727, 0.00042687927, 0.0007379992, 14.1),\n",
       " ('VCU', 13.389773, 0.00042268418, 0.00029299973, 10.7),\n",
       " ('Oregon St.', 10.470352, 6.8758214e-05, 0.00064699934, 7.8),\n",
       " ('Missouri', 10.125891, 3.751691e-05, 0.0007379992, 11.4),\n",
       " ('Colgate', 8.724659, 1.957814e-05, 0.00035399964, 8.8),\n",
       " ('UCSB', 8.547953, 1.130213e-05, 0.00040399958, 6.4),\n",
       " ('North Texas', 6.6593103, 2.8725915e-06, 0.00036399966, 7.9),\n",
       " ('WICH/DRKE', 7.00828, 2.7400042e-06, 0.00032299967, 8.4),\n",
       " ('Grand Canyon', 6.2536025, 1.0651103e-06, 0.0004949995, 4.5),\n",
       " ('Winthrop', 5.185369, 7.426336e-07, 0.00033299968, 5.8),\n",
       " ('Abilene Christian', 5.4645915, 6.872809e-07, 0.00040399958, 6.0),\n",
       " ('N.C. Greensboro', 5.486643, 6.7649825e-07, 0.00020199979, 5.1),\n",
       " ('Ohio', 5.154397, 5.467215e-07, 0.00035399964, 5.2),\n",
       " ('Liberty', 4.896063, 5.0692734e-07, 0.0003129997, 4.6),\n",
       " ('MSM/TXSO', 4.6775465, 2.55151e-07, 0.00020199979, 4.0),\n",
       " ('Cleveland St.', 4.1911683, 2.537447e-07, 0.00030299972, 2.0),\n",
       " ('Hartford', 3.5546083, 8.154802e-08, 0.00042399956, 2.4),\n",
       " ('NORF/APPST', 2.8624012, 5.084184e-08, 0.00029299973, 4.2),\n",
       " ('Eastern Wash.', 2.5021665, 4.1861295e-08, 0.00021199978, 4.6),\n",
       " ('Iona', 0.24387613, 3.96051e-09, 0.00040399958, 0.1),\n",
       " ('Oral Roberts', -0.600322, 2.4730482e-09, 0.00025299974, 0.9),\n",
       " ('Drexel', -0.3254586, 1.9195692e-09, 0.00054599944, 0.8),\n",
       " ('Morehead St.', -0.99673456, 1.3406266e-09, 0.00026299973, 0.1)]"
      ]
     },
     "execution_count": 309,
     "metadata": {},
     "output_type": "execute_result"
    }
   ],
   "source": [
    "\n",
    "human_ratings_np = human_ratings_tensor.detach().numpy()\n",
    "prob_np = prob.detach().numpy()\n",
    "target_np = target.numpy()\n",
    "names_prob = list(zip(names,human_ratings_np,prob_np,target_np))\n",
    "sorted(names_prob,key=lambda x: -x[2])"
   ]
  },
  {
   "cell_type": "code",
   "execution_count": 312,
   "metadata": {},
   "outputs": [
    {
     "data": {
      "text/plain": [
       "[('Georgetown', 16.0184, 9.7, 6.318400192260743),\n",
       " ('Syracuse', 16.680525, 12.3, 4.380524826049804),\n",
       " ('VCU', 13.389773, 10.7, 2.68977336883545),\n",
       " ('Oregon St.', 10.470352, 7.8, 2.6703521728515627),\n",
       " ('North Carolina', 17.471064, 14.9, 2.571063613891601),\n",
       " ('Oklahoma St.', 16.796816, 14.3, 2.496815872192382),\n",
       " ('MSU/UCLA', 15.086713, 12.6, 2.4867128372192386),\n",
       " ('Cleveland St.', 4.1911683, 2.0, 2.1911683082580566),\n",
       " ('UCSB', 8.547953, 6.4, 2.1479526519775387),\n",
       " ('Clemson', 14.378651, 12.5, 1.8786506652832031),\n",
       " ('Oregon', 15.717472, 13.9, 1.8174720764160153),\n",
       " ('Grand Canyon', 6.2536025, 4.5, 1.7536025047302246),\n",
       " ('Georgia Tech', 14.805324, 13.1, 1.7053236007690433),\n",
       " ('Maryland', 14.213443, 12.6, 1.6134428024291996),\n",
       " ('Florida', 14.787607, 13.2, 1.5876071929931648),\n",
       " ('Kansas', 18.636965, 17.1, 1.5369647979736314),\n",
       " ('Virginia Tech', 13.778135, 12.3, 1.4781352996826165),\n",
       " ('Illinois', 23.175295, 21.7, 1.4752948760986335),\n",
       " ('Michigan', 21.855366, 20.4, 1.4553657531738295),\n",
       " ('Gonzaga', 27.333015, 25.9, 1.4330154418945327),\n",
       " ('Loyola (IL)', 15.192184, 13.9, 1.2921844482421871),\n",
       " ('SDSU', 15.686024, 14.5, 1.1860237121582031),\n",
       " ('Ohio St.', 18.66779, 17.5, 1.1677894592285156),\n",
       " ('Hartford', 3.5546083, 2.4, 1.1546083450317384),\n",
       " ('St. Bonaventure', 13.71233, 12.7, 1.0123298645019538),\n",
       " ('Connecticut', 16.030882, 15.2, 0.8308818817138679),\n",
       " ('Utah St.', 12.928474, 12.1, 0.8284744262695316),\n",
       " ('Texas', 17.308342, 16.5, 0.8083419799804688),\n",
       " ('MSM/TXSO', 4.6775465, 4.0, 0.677546501159668),\n",
       " ('BYU', 14.540063, 13.9, 0.6400629043579098),\n",
       " ('Rutgers', 13.5954485, 13.0, 0.5954484939575195),\n",
       " ('LSU', 15.1469, 14.6, 0.5469001770019535),\n",
       " ('Virginia', 16.728817, 16.2, 0.5288169860839851),\n",
       " ('West Virginia', 16.689497, 16.2, 0.4894969940185554),\n",
       " ('N.C. Greensboro', 5.486643, 5.1, 0.3866428375244144),\n",
       " ('Liberty', 4.896063, 4.6, 0.2960628509521488),\n",
       " ('Purdue', 15.41511, 15.2, 0.21510963439941477),\n",
       " ('Iona', 0.24387613, 0.1, 0.1438761293888092),\n",
       " ('Alabama', 18.116446, 18.0, 0.11644554138183594),\n",
       " ('Ohio', 5.154397, 5.2, -0.04560298919677752),\n",
       " ('Colgate', 8.724659, 8.8, -0.07534103393554759),\n",
       " ('Wisconsin', 15.731843, 15.9, -0.16815700531005895),\n",
       " ('Arkansas', 15.912425, 16.2, -0.2875749588012688),\n",
       " ('Florida St.', 16.328344, 16.7, -0.37165565490722585),\n",
       " ('Abilene Christian', 5.4645915, 6.0, -0.5354084968566895),\n",
       " ('Winthrop', 5.185369, 5.8, -0.6146309852600096),\n",
       " ('USC', 14.86132, 15.9, -1.038680458068848),\n",
       " ('Oklahoma', 13.050727, 14.1, -1.0492731094360348),\n",
       " ('Colorado', 14.905259, 16.0, -1.094740867614746),\n",
       " ('Morehead St.', -0.99673456, 0.1, -1.0967345595359803),\n",
       " ('Drexel', -0.3254586, 0.8, -1.125458586215973),\n",
       " ('Villanova', 16.70532, 17.9, -1.1946796417236314),\n",
       " ('Tennessee', 15.298122, 16.5, -1.2018775939941406),\n",
       " ('North Texas', 6.6593103, 7.9, -1.2406896591186527),\n",
       " ('Missouri', 10.125891, 11.4, -1.274109268188477),\n",
       " ('NORF/APPST', 2.8624012, 4.2, -1.337598752975464),\n",
       " ('Baylor', 21.708778, 23.1, -1.3912216186523452),\n",
       " ('WICH/DRKE', 7.00828, 8.4, -1.3917201995849613),\n",
       " ('Oral Roberts', -0.600322, 0.9, -1.5003220081329345),\n",
       " ('Iowa', 19.219692, 20.9, -1.6803077697753892),\n",
       " ('Texas Tech', 15.07213, 16.9, -1.8278697967529283),\n",
       " ('Eastern Wash.', 2.5021665, 4.6, -2.0978334903717037),\n",
       " ('Houston', 17.722143, 19.9, -2.177856826782225),\n",
       " ('Creighton', 14.708283, 16.9, -2.191716575622557)]"
      ]
     },
     "execution_count": 312,
     "metadata": {},
     "output_type": "execute_result"
    }
   ],
   "source": [
    "names_prob = list(zip(names,human_ratings_np,ratings,human_ratings_np-ratings))\n",
    "sorted(names_prob,key=lambda x: -x[3])"
   ]
  },
  {
   "cell_type": "code",
   "execution_count": 279,
   "metadata": {},
   "outputs": [
    {
     "data": {
      "text/plain": [
       "<matplotlib.collections.PathCollection at 0x7fba3e8c6ef0>"
      ]
     },
     "execution_count": 279,
     "metadata": {},
     "output_type": "execute_result"
    },
    {
     "data": {
      "image/png": "[encoded data removed]",
      "text/plain": [
       "<Figure size 432x288 with 1 Axes>"
      ]
     },
     "metadata": {
      "needs_background": "light"
     },
     "output_type": "display_data"
    }
   ],
   "source": [
    "plt.scatter(target_np,prob_np)\n"
   ]
  },
  {
   "cell_type": "code",
   "execution_count": 705,
   "metadata": {},
   "outputs": [],
   "source": [
    "from scipy.stats import norm\n",
    "\n",
    "x = np.linspace(-20,20,100)\n",
    "norm = norm.cdf(x, loc=0, scale=9.5)\n",
    "logisitic = (1/(1+(e*2)**(-(x)/9.5) ) )"
   ]
  },
  {
   "cell_type": "code",
   "execution_count": 305,
   "metadata": {},
   "outputs": [],
   "source": [
    "targets = [[human_picks[name][x]/100. for name in names] for x in range(6)]"
   ]
  },
  {
   "cell_type": "code",
   "execution_count": 306,
   "metadata": {},
   "outputs": [],
   "source": [
    "def do_full_bracket_print(rankings,prob):\n",
    "    probs = []\n",
    "    power = math.log(rankings.shape[0])/math.log(2)\n",
    "    assert power.is_integer(), \"must be multiple of two\"\n",
    "    power = int(power)\n",
    "    for x in range(power):\n",
    "        l_power = 2**x\n",
    "        prob,n_rounds = one_round(rankings,prob,2*l_power,l_power,logisitic)\n",
    "        probs.append(prob.detach().numpy())\n",
    "        #print(prob)\n",
    "    return probs"
   ]
  },
  {
   "cell_type": "code",
   "execution_count": 307,
   "metadata": {},
   "outputs": [],
   "source": [
    "predicted = do_full_bracket_print(human_ratings_tensor,xp)"
   ]
  },
  {
   "cell_type": "code",
   "execution_count": 308,
   "metadata": {},
   "outputs": [
    {
     "data": {
      "image/png": "[encoded data removed]",
      "text/plain": [
       "<Figure size 432x288 with 1 Axes>"
      ]
     },
     "metadata": {
      "needs_background": "light"
     },
     "output_type": "display_data"
    },
    {
     "data": {
      "image/png": "[encoded data removed]",
      "text/plain": [
       "<Figure size 432x288 with 1 Axes>"
      ]
     },
     "metadata": {
      "needs_background": "light"
     },
     "output_type": "display_data"
    },
    {
     "data": {
      "image/png": "[encoded data removed]",
      "text/plain": [
       "<Figure size 432x288 with 1 Axes>"
      ]
     },
     "metadata": {
      "needs_background": "light"
     },
     "output_type": "display_data"
    },
    {
     "data": {
      "image/png": "[encoded data removed]",
      "text/plain": [
       "<Figure size 432x288 with 1 Axes>"
      ]
     },
     "metadata": {
      "needs_background": "light"
     },
     "output_type": "display_data"
    },
    {
     "data": {
      "image/png": "[encoded data removed]",
      "text/plain": [
       "<Figure size 432x288 with 1 Axes>"
      ]
     },
     "metadata": {
      "needs_background": "light"
     },
     "output_type": "display_data"
    },
    {
     "data": {
      "image/png": "[encoded data removed]",
      "text/plain": [
       "<Figure size 432x288 with 1 Axes>"
      ]
     },
     "metadata": {
      "needs_background": "light"
     },
     "output_type": "display_data"
    },
    {
     "data": {
      "text/plain": [
       "<Figure size 432x288 with 0 Axes>"
      ]
     },
     "metadata": {},
     "output_type": "display_data"
    }
   ],
   "source": [
    "for i,(pred, tar) in enumerate(zip(predicted,targets)):\n",
    "    plt.scatter(tar,pred, label=\"round: {}\".format(i))\n",
    "    plt.ylabel(\"prediction\")\n",
    "    plt.xlabel(\"target\")\n",
    "    x = np.linspace(0,1,3)\n",
    "    plt.plot(x,x)\n",
    "    plt.legend()\n",
    "    plt.show()\n",
    "    plt.clf()"
   ]
  },
  {
   "cell_type": "code",
   "execution_count": 706,
   "metadata": {},
   "outputs": [
    {
     "data": {
      "text/plain": [
       "<matplotlib.legend.Legend at 0x7fde91c077f0>"
      ]
     },
     "execution_count": 706,
     "metadata": {},
     "output_type": "execute_result"
    },
    {
     "data": {
      "image/png": "[encoded data removed]",
      "text/plain": [
       "<Figure size 432x288 with 1 Axes>"
      ]
     },
     "metadata": {
      "needs_background": "light"
     },
     "output_type": "display_data"
    }
   ],
   "source": [
    "plt.plot(norm, label=\"norm\")\n",
    "plt.plot(logisitic, label=\"logisitic\")\n",
    "plt.legend()"
   ]
  },
  {
   "cell_type": "code",
   "execution_count": 703,
   "metadata": {},
   "outputs": [
    {
     "data": {
      "text/plain": [
       "5.4"
      ]
     },
     "execution_count": 703,
     "metadata": {},
     "output_type": "execute_result"
    }
   ],
   "source": [
    "2.7*2"
   ]
  },
  {
   "cell_type": "code",
   "execution_count": 229,
   "metadata": {},
   "outputs": [],
   "source": [
    "m = nn.LogSoftmax(dim=1)\n",
    "loss = nn.NLLLoss()\n",
    "# input is of size N x C = 3 x 5\n",
    "input = torch.randn(3, 5, requires_grad=True)\n",
    "# each element in target has to have 0 <= value < C\n",
    "target = torch.tensor([1, 0, 4])\n",
    "output = loss(m(input), target)\n",
    "output.backward()"
   ]
  },
  {
   "cell_type": "code",
   "execution_count": 230,
   "metadata": {},
   "outputs": [
    {
     "data": {
      "text/plain": [
       "tensor([[-0.6440, -0.6569,  0.7668, -1.3241, -0.2552],\n",
       "        [ 0.5537,  1.8828, -0.3636,  0.9727,  1.1204],\n",
       "        [-1.0023,  1.0026, -0.5451, -0.3423,  1.0632]], requires_grad=True)"
      ]
     },
     "execution_count": 230,
     "metadata": {},
     "output_type": "execute_result"
    }
   ],
   "source": [
    "input"
   ]
  },
  {
   "cell_type": "code",
   "execution_count": 231,
   "metadata": {},
   "outputs": [
    {
     "data": {
      "text/plain": [
       "tensor([1, 0, 4])"
      ]
     },
     "execution_count": 231,
     "metadata": {},
     "output_type": "execute_result"
    }
   ],
   "source": [
    "target"
   ]
  },
  {
   "cell_type": "code",
   "execution_count": null,
   "metadata": {},
   "outputs": [],
   "source": []
  }
 ],
 "metadata": {
  "kernelspec": {
   "display_name": "mmEnv",
   "language": "python",
   "name": "mmenv"
  },
  "language_info": {
   "codemirror_mode": {
    "name": "ipython",
    "version": 3
   },
   "file_extension": ".py",
   "mimetype": "text/x-python",
   "name": "python",
   "nbconvert_exporter": "python",
   "pygments_lexer": "ipython3",
   "version": "3.6.5"
  }
 },
 "nbformat": 4,
 "nbformat_minor": 4
}
